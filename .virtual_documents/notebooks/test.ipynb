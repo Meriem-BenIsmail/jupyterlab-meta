import papermill as pm

pm.execute_notebook(
    "test-papermill.ipynb",  # Input notebook
    "/home/mambauser/app/output/output.ipynb",  # Output notebook in the mounted directory
    parameters={"param1": "TestRun", "param2": 99},
    kernel_name="python3"
)



