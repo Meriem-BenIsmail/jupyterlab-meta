{
 "cells": [
  {
   "cell_type": "code",
   "execution_count": null,
   "metadata": {},
   "outputs": [],
   "source": [
    "from dash import dcc, html, Dash\n",
    "app = Dash(__name__)\n",
    "app.layout = html.Div([\n",
    "    dcc.Graph(\n",
    "        id='graph',\n",
    "        figure={\n",
    "            'data': [{\n",
    "                'x': [1, 2, 3, 4],\n",
    "                'y': [10, 11, 12, 13],\n",
    "                'type': 'line',\n",
    "                'name': 'Test',\n",
    "            }],\n",
    "            'layout': {\n",
    "                'title': 'Dash in JupyterLab'\n",
    "            }\n",
    "        })\n",
    "])\n",
    "app.run_server(host=\"0.0.0.0\", port=8052)"
   ]
  }
 ],
 "metadata": {
  "language_info": {
   "name": "python"
  }
 },
 "nbformat": 4,
 "nbformat_minor": 2
}
