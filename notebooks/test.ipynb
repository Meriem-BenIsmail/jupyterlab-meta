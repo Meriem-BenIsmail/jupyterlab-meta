{
 "cells": [
  {
   "cell_type": "code",
   "execution_count": null,
   "metadata": {
    "vscode": {
     "languageId": "plaintext"
    }
   },
   "outputs": [],
   "source": [
    "import tempfile\n",
    "import papermill as pm\n",
    "\n",
    "with tempfile.NamedTemporaryFile(delete=False, suffix='.ipynb') as temp_output:\n",
    "    pm.execute_notebook(\n",
    "        \"test-papermill.ipynb\", \n",
    "        temp_output.name,        \n",
    "        parameters={\"param1\": \"TestRun\", \"param2\": 99},\n",
    "        kernel_name=\"python3\"\n",
    "    )\n",
    "    print(f\"Output saved to {temp_output.name}\")\n",
    "    output_path = temp_output.name  \n",
    "output_path\n"
   ]
  }
 ],
 "metadata": {
  "language_info": {
   "name": "python"
  }
 },
 "nbformat": 4,
 "nbformat_minor": 2
}
