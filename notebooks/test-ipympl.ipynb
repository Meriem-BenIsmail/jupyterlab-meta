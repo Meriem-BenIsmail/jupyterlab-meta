{
 "cells": [
  {
   "cell_type": "code",
   "execution_count": null,
   "metadata": {},
   "outputs": [],
   "source": [
    "# Activate ipympl\n",
    "%matplotlib widget  \n",
    "\n",
    "import matplotlib.pyplot as plt  \n",
    "import numpy as np  \n",
    "\n",
    "x = np.linspace(0, 10, 100)  \n",
    "y = np.sin(x)  \n",
    "\n",
    "fig, ax = plt.subplots()  \n",
    "ax.plot(x, y)  \n",
    "plt.show()\n"
   ]
  }
 ],
 "metadata": {
  "language_info": {
   "name": "python"
  }
 },
 "nbformat": 4,
 "nbformat_minor": 2
}
