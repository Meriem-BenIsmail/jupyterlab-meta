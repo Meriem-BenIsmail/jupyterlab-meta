{
 "cells": [
  {
   "cell_type": "code",
   "execution_count": null,
   "metadata": {},
   "outputs": [],
   "source": [
    "import numpy as np\n",
    "import pandas as pd\n",
    "import ipydatagrid\n",
    "\n",
    "data = pd.DataFrame(\n",
    "    np.random.randint(0, 100, size=(5, 5)), \n",
    "    columns=[\"A\", \"B\", \"C\", \"D\", \"E\"]\n",
    ")\n",
    "\n",
    "grid = ipydatagrid.DataGrid(data, editable=True)\n",
    "\n",
    "grid\n"
   ]
  }
 ],
 "metadata": {
  "language_info": {
   "name": "python"
  }
 },
 "nbformat": 4,
 "nbformat_minor": 2
}
